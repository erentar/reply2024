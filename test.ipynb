{
 "cells": [
  {
   "cell_type": "code",
   "execution_count": 1,
   "metadata": {
    "ExecuteTime": {
     "end_time": "2024-03-21T17:52:39.480510200Z",
     "start_time": "2024-03-21T17:52:34.203071100Z"
    }
   },
   "outputs": [
    {
     "name": "stdout",
     "output_type": "stream",
     "text": [
      "Requirement already satisfied: networkx[default] in c:\\users\\antoi\\appdata\\local\\programs\\python\\python310\\lib\\site-packages (3.2.1)\n",
      "Requirement already satisfied: numpy>=1.22 in c:\\users\\antoi\\appdata\\local\\programs\\python\\python310\\lib\\site-packages (from networkx[default]) (1.26.3)\n",
      "Requirement already satisfied: scipy!=1.11.0,!=1.11.1,>=1.9 in c:\\users\\antoi\\appdata\\local\\programs\\python\\python310\\lib\\site-packages (from networkx[default]) (1.10.1)\n",
      "Requirement already satisfied: matplotlib>=3.5 in c:\\users\\antoi\\appdata\\local\\programs\\python\\python310\\lib\\site-packages (from networkx[default]) (3.5.1)\n",
      "Requirement already satisfied: pandas>=1.4 in c:\\users\\antoi\\appdata\\local\\programs\\python\\python310\\lib\\site-packages (from networkx[default]) (1.4.2)\n",
      "Requirement already satisfied: cycler>=0.10 in c:\\users\\antoi\\appdata\\local\\programs\\python\\python310\\lib\\site-packages (from matplotlib>=3.5->networkx[default]) (0.11.0)\n",
      "Requirement already satisfied: fonttools>=4.22.0 in c:\\users\\antoi\\appdata\\local\\programs\\python\\python310\\lib\\site-packages (from matplotlib>=3.5->networkx[default]) (4.28.5)\n",
      "Requirement already satisfied: kiwisolver>=1.0.1 in c:\\users\\antoi\\appdata\\local\\programs\\python\\python310\\lib\\site-packages (from matplotlib>=3.5->networkx[default]) (1.3.2)\n",
      "Requirement already satisfied: packaging>=20.0 in c:\\users\\antoi\\appdata\\local\\programs\\python\\python310\\lib\\site-packages (from matplotlib>=3.5->networkx[default]) (21.3)\n",
      "Requirement already satisfied: pillow>=6.2.0 in c:\\users\\antoi\\appdata\\local\\programs\\python\\python310\\lib\\site-packages (from matplotlib>=3.5->networkx[default]) (9.3.0)\n",
      "Requirement already satisfied: pyparsing>=2.2.1 in c:\\users\\antoi\\appdata\\local\\programs\\python\\python310\\lib\\site-packages (from matplotlib>=3.5->networkx[default]) (3.0.6)\n",
      "Requirement already satisfied: python-dateutil>=2.7 in c:\\users\\antoi\\appdata\\local\\programs\\python\\python310\\lib\\site-packages (from matplotlib>=3.5->networkx[default]) (2.8.2)\n",
      "Requirement already satisfied: pytz>=2020.1 in c:\\users\\antoi\\appdata\\local\\programs\\python\\python310\\lib\\site-packages (from pandas>=1.4->networkx[default]) (2022.1)\n",
      "Requirement already satisfied: six>=1.5 in c:\\users\\antoi\\appdata\\roaming\\python\\python310\\site-packages (from python-dateutil>=2.7->matplotlib>=3.5->networkx[default]) (1.16.0)\n",
      "Requirement already satisfied: matplotlib in c:\\users\\antoi\\appdata\\local\\programs\\python\\python310\\lib\\site-packages (3.5.1)\n",
      "Requirement already satisfied: cycler>=0.10 in c:\\users\\antoi\\appdata\\local\\programs\\python\\python310\\lib\\site-packages (from matplotlib) (0.11.0)\n",
      "Requirement already satisfied: fonttools>=4.22.0 in c:\\users\\antoi\\appdata\\local\\programs\\python\\python310\\lib\\site-packages (from matplotlib) (4.28.5)\n",
      "Requirement already satisfied: kiwisolver>=1.0.1 in c:\\users\\antoi\\appdata\\local\\programs\\python\\python310\\lib\\site-packages (from matplotlib) (1.3.2)\n",
      "Requirement already satisfied: numpy>=1.17 in c:\\users\\antoi\\appdata\\local\\programs\\python\\python310\\lib\\site-packages (from matplotlib) (1.26.3)\n",
      "Requirement already satisfied: packaging>=20.0 in c:\\users\\antoi\\appdata\\local\\programs\\python\\python310\\lib\\site-packages (from matplotlib) (21.3)\n",
      "Requirement already satisfied: pillow>=6.2.0 in c:\\users\\antoi\\appdata\\local\\programs\\python\\python310\\lib\\site-packages (from matplotlib) (9.3.0)\n",
      "Requirement already satisfied: pyparsing>=2.2.1 in c:\\users\\antoi\\appdata\\local\\programs\\python\\python310\\lib\\site-packages (from matplotlib) (3.0.6)\n",
      "Requirement already satisfied: python-dateutil>=2.7 in c:\\users\\antoi\\appdata\\local\\programs\\python\\python310\\lib\\site-packages (from matplotlib) (2.8.2)\n",
      "Requirement already satisfied: six>=1.5 in c:\\users\\antoi\\appdata\\roaming\\python\\python310\\site-packages (from python-dateutil>=2.7->matplotlib) (1.16.0)\n"
     ]
    }
   ],
   "source": [
    "!pip install networkx[default]\n",
    "!pip install matplotlib\n",
    "\n",
    "import matplotlib.pyplot as plt\n",
    "from parse import *\n",
    "import numpy as np\n",
    "from pprint import pprint\n",
    "import networkx as nx\n",
    "from networkx import Graph\n",
    "from itertools import combinations\n",
    "\n",
    "cardinalToCoord = {\n",
    "    \"n\":[0,-1],\n",
    "    \"e\":[+1,0],\n",
    "    \"s\":[0,+1],\n",
    "    \"w\":[-1,0],\n",
    "}\n",
    "\n",
    "tileToDirection = {\n",
    "    \"3\": {\"w\", \"e\"},\n",
    "    \"5\": {\"s\", \"e\"},\n",
    "    \"6\": {\"s\", \"w\"},\n",
    "    \"7\": {\"s\", \"e\", \"w\"},\n",
    "    \"9\": {\"n\", \"e\"},\n",
    "    \"A\": {\"w\", \"n\"},\n",
    "    \"B\": {\"w\", \"n\", \"e\"},\n",
    "    \"C\": {\"n\", \"s\"},\n",
    "    \"D\": {\"n\", \"s\", \"e\"},\n",
    "    \"E\": {\"n\", \"s\", \"w\"},\n",
    "    \"F\": {\"n\", \"s\", \"w\", \"e\"}\n",
    "}\n",
    "\n",
    "def connectedTo(coordinate:np.array(2), directions) -> list[tuple]:\n",
    "    connections = []\n",
    "    for direction in directions:\n",
    "        connections.append(tuple(np.array(coordinate)+np.array(cardinalToCoord[direction])))\n",
    "    return connections\n"
   ]
  },
  {
   "cell_type": "code",
   "execution_count": 2,
   "metadata": {
    "ExecuteTime": {
     "end_time": "2024-03-21T17:52:39.498938Z",
     "start_time": "2024-03-21T17:52:39.472934400Z"
    }
   },
   "outputs": [
    {
     "data": {
      "text/plain": "[(2, 1), (0, 1)]"
     },
     "execution_count": 2,
     "metadata": {},
     "output_type": "execute_result"
    }
   ],
   "source": [
    "connectedTo([1,1],tiles[0][\"direction\"])\n"
   ]
  },
  {
   "cell_type": "code",
   "execution_count": 3,
   "metadata": {
    "ExecuteTime": {
     "end_time": "2024-03-21T17:52:39.511756400Z",
     "start_time": "2024-03-21T17:52:39.486909700Z"
    }
   },
   "outputs": [],
   "source": [
    "def evaluate(state: list[list[int | str]]) -> int:\n",
    "    # sub grid with the same [0,0] but twice the density so all edges a coord\n",
    "    graph = Graph()\n",
    "\n",
    "    for GP in goldenPoints:\n",
    "        graph.add_node((GP[\"x\"], GP[\"y\"]))\n",
    "        graph.add_nodes_from(connectedTo((GP[\"x\"], GP[\"y\"]), [\"n\", \"e\", \"s\", \"w\"]))\n",
    "        graph.add_edges_from(zip([(GP[\"x\"], GP[\"y\"])] * 4, connectedTo((GP[\"x\"], GP[\"y\"]), [\"n\", \"e\", \"s\", \"w\"])))\n",
    "\n",
    "    for tile in state:\n",
    "        graph.add_node((tile[1], tile[2]))\n",
    "        connections = connectedTo((tile[1], tile[2]), tileToDirection[tile[0]])\n",
    "        for connection in connections:\n",
    "            graph.add_edges_from([((tile[1], tile[2]), connection)])\n",
    "    \n",
    "    score = 0\n",
    "    for tile in state:\n",
    "        score -= costs[tile[0]]\n",
    "    \n",
    "    for GPpair in combinations([(GP[\"x\"], GP[\"y\"]) for GP in goldenPoints], 2):\n",
    "        print(GPpair)\n",
    "    \n",
    "    \n",
    "    nx.draw(graph, with_labels=True)"
   ]
  },
  {
   "cell_type": "code",
   "outputs": [
    {
     "data": {
      "text/plain": "[(1, 2), (1, 3), (2, 3)]"
     },
     "execution_count": 4,
     "metadata": {},
     "output_type": "execute_result"
    }
   ],
   "source": [
    "list(combinations([1,2,3], 2))"
   ],
   "metadata": {
    "collapsed": false,
    "ExecuteTime": {
     "end_time": "2024-03-21T17:52:39.533980900Z",
     "start_time": "2024-03-21T17:52:39.502095200Z"
    }
   },
   "execution_count": 4
  },
  {
   "cell_type": "code",
   "execution_count": 5,
   "metadata": {
    "ExecuteTime": {
     "end_time": "2024-03-21T17:52:39.646965100Z",
     "start_time": "2024-03-21T17:52:39.520414300Z"
    }
   },
   "outputs": [
    {
     "name": "stdout",
     "output_type": "stream",
     "text": [
      "((2, 4), (7, 2))\n",
      "((2, 4), (6, 6))\n",
      "((7, 2), (6, 6))\n"
     ]
    },
    {
     "data": {
      "text/plain": "<Figure size 432x288 with 1 Axes>",
      "image/png": "[encoded data removed]"
     },
     "metadata": {},
     "output_type": "display_data"
    }
   ],
   "source": [
    "evaluate([\n",
    "    [\"3\", 3, 4],\n",
    "    [\"B\", 4, 4],\n",
    "    [\"C\", 4, 3],\n",
    "    [\"5\", 4, 2],\n",
    "    [\"A\", 5, 2],\n",
    "    [\"C\", 5, 1],\n",
    "    [\"5\", 5, 0],\n",
    "    [\"6\", 6, 0],\n",
    "    [\"C\", 6, 1],\n",
    "    [\"9\", 6, 2],\n",
    "    [\"F\", 7, 3],\n",
    "    [\"F\", 7, 4],\n",
    "    [\"F\", 7, 5],\n",
    "    [\"A\", 7, 6],\n",
    "    [\"9\", 5, 6],\n",
    "    [\"E\", 5, 5],\n",
    "    [\"6\", 5, 4]\n",
    "])"
   ]
  },
  {
   "cell_type": "code",
   "outputs": [
    {
     "name": "stdout",
     "output_type": "stream",
     "text": [
      "{'3': 6, '5': 2, '6': 2, '7': 8, '9': 2, 'A': 2, 'B': 8, 'C': 6, 'D': 8, 'E': 8, 'F': 15}\n"
     ]
    }
   ],
   "source": [
    "print(costs)"
   ],
   "metadata": {
    "collapsed": false,
    "ExecuteTime": {
     "end_time": "2024-03-21T17:52:39.716095100Z",
     "start_time": "2024-03-21T17:52:39.643447600Z"
    }
   },
   "execution_count": 6
  },
  {
   "cell_type": "code",
   "outputs": [],
   "source": [],
   "metadata": {
    "collapsed": false,
    "ExecuteTime": {
     "end_time": "2024-03-21T17:52:39.717094800Z",
     "start_time": "2024-03-21T17:52:39.657746700Z"
    }
   },
   "execution_count": 6
  }
 ],
 "metadata": {
  "kernelspec": {
   "display_name": "Python 3",
   "language": "python",
   "name": "python3"
  },
  "language_info": {
   "codemirror_mode": {
    "name": "ipython",
    "version": 3
   },
   "file_extension": ".py",
   "mimetype": "text/x-python",
   "name": "python",
   "nbconvert_exporter": "python",
   "pygments_lexer": "ipython3",
   "version": "3.10.6"
  }
 },
 "nbformat": 4,
 "nbformat_minor": 2
}
