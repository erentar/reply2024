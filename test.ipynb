{
 "cells": [
  {
   "cell_type": "code",
   "execution_count": 140,
   "metadata": {
    "ExecuteTime": {
     "end_time": "2024-03-21T19:13:23.293232600Z",
     "start_time": "2024-03-21T19:13:18.681937800Z"
    }
   },
   "outputs": [
    {
     "name": "stdout",
     "output_type": "stream",
     "text": [
      "Requirement already satisfied: networkx[default] in c:\\users\\antoi\\appdata\\local\\programs\\python\\python310\\lib\\site-packages (3.2.1)\n",
      "Requirement already satisfied: numpy>=1.22 in c:\\users\\antoi\\appdata\\local\\programs\\python\\python310\\lib\\site-packages (from networkx[default]) (1.26.3)\n",
      "Requirement already satisfied: scipy!=1.11.0,!=1.11.1,>=1.9 in c:\\users\\antoi\\appdata\\local\\programs\\python\\python310\\lib\\site-packages (from networkx[default]) (1.10.1)\n",
      "Requirement already satisfied: matplotlib>=3.5 in c:\\users\\antoi\\appdata\\local\\programs\\python\\python310\\lib\\site-packages (from networkx[default]) (3.5.1)\n",
      "Requirement already satisfied: pandas>=1.4 in c:\\users\\antoi\\appdata\\local\\programs\\python\\python310\\lib\\site-packages (from networkx[default]) (1.4.2)\n",
      "Requirement already satisfied: cycler>=0.10 in c:\\users\\antoi\\appdata\\local\\programs\\python\\python310\\lib\\site-packages (from matplotlib>=3.5->networkx[default]) (0.11.0)\n",
      "Requirement already satisfied: fonttools>=4.22.0 in c:\\users\\antoi\\appdata\\local\\programs\\python\\python310\\lib\\site-packages (from matplotlib>=3.5->networkx[default]) (4.28.5)\n",
      "Requirement already satisfied: kiwisolver>=1.0.1 in c:\\users\\antoi\\appdata\\local\\programs\\python\\python310\\lib\\site-packages (from matplotlib>=3.5->networkx[default]) (1.3.2)\n",
      "Requirement already satisfied: packaging>=20.0 in c:\\users\\antoi\\appdata\\local\\programs\\python\\python310\\lib\\site-packages (from matplotlib>=3.5->networkx[default]) (21.3)\n",
      "Requirement already satisfied: pillow>=6.2.0 in c:\\users\\antoi\\appdata\\local\\programs\\python\\python310\\lib\\site-packages (from matplotlib>=3.5->networkx[default]) (9.3.0)\n",
      "Requirement already satisfied: pyparsing>=2.2.1 in c:\\users\\antoi\\appdata\\local\\programs\\python\\python310\\lib\\site-packages (from matplotlib>=3.5->networkx[default]) (3.0.6)\n",
      "Requirement already satisfied: python-dateutil>=2.7 in c:\\users\\antoi\\appdata\\local\\programs\\python\\python310\\lib\\site-packages (from matplotlib>=3.5->networkx[default]) (2.8.2)\n",
      "Requirement already satisfied: pytz>=2020.1 in c:\\users\\antoi\\appdata\\local\\programs\\python\\python310\\lib\\site-packages (from pandas>=1.4->networkx[default]) (2022.1)\n",
      "Requirement already satisfied: six>=1.5 in c:\\users\\antoi\\appdata\\roaming\\python\\python310\\site-packages (from python-dateutil>=2.7->matplotlib>=3.5->networkx[default]) (1.16.0)\n",
      "Requirement already satisfied: matplotlib in c:\\users\\antoi\\appdata\\local\\programs\\python\\python310\\lib\\site-packages (3.5.1)\n",
      "Requirement already satisfied: cycler>=0.10 in c:\\users\\antoi\\appdata\\local\\programs\\python\\python310\\lib\\site-packages (from matplotlib) (0.11.0)\n",
      "Requirement already satisfied: fonttools>=4.22.0 in c:\\users\\antoi\\appdata\\local\\programs\\python\\python310\\lib\\site-packages (from matplotlib) (4.28.5)\n",
      "Requirement already satisfied: kiwisolver>=1.0.1 in c:\\users\\antoi\\appdata\\local\\programs\\python\\python310\\lib\\site-packages (from matplotlib) (1.3.2)\n",
      "Requirement already satisfied: numpy>=1.17 in c:\\users\\antoi\\appdata\\local\\programs\\python\\python310\\lib\\site-packages (from matplotlib) (1.26.3)\n",
      "Requirement already satisfied: packaging>=20.0 in c:\\users\\antoi\\appdata\\local\\programs\\python\\python310\\lib\\site-packages (from matplotlib) (21.3)\n",
      "Requirement already satisfied: pillow>=6.2.0 in c:\\users\\antoi\\appdata\\local\\programs\\python\\python310\\lib\\site-packages (from matplotlib) (9.3.0)\n",
      "Requirement already satisfied: pyparsing>=2.2.1 in c:\\users\\antoi\\appdata\\local\\programs\\python\\python310\\lib\\site-packages (from matplotlib) (3.0.6)\n",
      "Requirement already satisfied: python-dateutil>=2.7 in c:\\users\\antoi\\appdata\\local\\programs\\python\\python310\\lib\\site-packages (from matplotlib) (2.8.2)\n",
      "Requirement already satisfied: six>=1.5 in c:\\users\\antoi\\appdata\\roaming\\python\\python310\\site-packages (from python-dateutil>=2.7->matplotlib) (1.16.0)\n"
     ]
    }
   ],
   "source": [
    "!pip install networkx[default]\n",
    "!pip install matplotlib\n",
    "\n",
    "import matplotlib.pyplot as plt\n",
    "from parse import *\n",
    "import numpy as np\n",
    "from pprint import pprint\n",
    "import networkx as nx\n",
    "from networkx import Graph\n",
    "from itertools import combinations\n",
    "\n",
    "cardinalToCoord = {\n",
    "    \"n\":[0,-1],\n",
    "    \"e\":[+1,0],\n",
    "    \"s\":[0,+1],\n",
    "    \"w\":[-1,0],\n",
    "}\n",
    "\n",
    "tileToDirection = {\n",
    "    \"3\": {\"w\", \"e\"},\n",
    "    \"5\": {\"s\", \"e\"},\n",
    "    \"6\": {\"s\", \"w\"},\n",
    "    \"7\": {\"s\", \"e\", \"w\"},\n",
    "    \"9\": {\"n\", \"e\"},\n",
    "    \"A\": {\"w\", \"n\"},\n",
    "    \"B\": {\"w\", \"n\", \"e\"},\n",
    "    \"C\": {\"n\", \"s\"},\n",
    "    \"D\": {\"n\", \"s\", \"e\"},\n",
    "    \"E\": {\"n\", \"s\", \"w\"},\n",
    "    \"F\": {\"n\", \"s\", \"w\", \"e\"}\n",
    "}\n",
    "\n",
    "\n",
    "\n",
    "def connectedTo(coordinate:np.array(2), directions) -> list[tuple]:\n",
    "    connections = []\n",
    "    for direction in directions:\n",
    "        connections.append(tuple(np.array(coordinate)+np.array(cardinalToCoord[direction])))\n",
    "    return connections\n"
   ]
  },
  {
   "cell_type": "code",
   "execution_count": 141,
   "metadata": {
    "ExecuteTime": {
     "end_time": "2024-03-21T19:13:23.310064400Z",
     "start_time": "2024-03-21T19:13:23.291233600Z"
    }
   },
   "outputs": [],
   "source": [
    "def evaluate(state: dict[tuple: str]) -> int:\n",
    "    # sub grid with the same [0,0] but twice the density so all edges a coord\n",
    "    graph = Graph()\n",
    "\n",
    "    for GP in goldenPoints:\n",
    "        graph.add_node((GP[\"x\"], GP[\"y\"]), golden=True)\n",
    "        # graph.add_nodes_from(connectedTo((GP[\"x\"], GP[\"y\"]), [\"n\", \"e\", \"s\", \"w\"]))\n",
    "        # graph.add_edges_from(zip([(GP[\"x\"], GP[\"y\"])] * 4, connectedTo((GP[\"x\"], GP[\"y\"]), [\"n\", \"e\", \"s\", \"w\"])))\n",
    "    \n",
    "    \n",
    "    \n",
    "    for tile in state.keys():\n",
    "        graph.add_node((tile[0], tile[1]))\n",
    "        connections = connectedTo((tile[0], tile[1]), tileToDirection[state[tile]])\n",
    "        for connection in connections:\n",
    "            # check if there is something there\n",
    "            if connection in state.keys():\n",
    "                # check that it can accept the connection\n",
    "                if tile in connectedTo(connection, tileToDirection[state[connection]]):\n",
    "                    graph.add_edges_from([((tile[0], tile[1]), connection)])\n",
    "            elif connection in [(GP[\"x\"], GP[\"y\"]) for GP in goldenPoints]:\n",
    "                graph.add_edges_from([((tile[0], tile[1]), connection)])\n",
    "    \n",
    "    score = 0\n",
    "    for tile in state:\n",
    "        # TODO : might be incorect -> check the problem statement\n",
    "        score -= costs[state[tile]]\n",
    "    \n",
    "    for GPpair in combinations([(GP[\"x\"], GP[\"y\"]) for GP in goldenPoints], 2):\n",
    "        # is there a path between the two golden points\n",
    "        if nx.has_path(graph, GPpair[0], GPpair[1]):\n",
    "            all_paths : list[list[tuple]] = list(nx.all_simple_paths(graph, GPpair[0], GPpair[1]))\n",
    "            all_paths : list[set[tuple]] = [set(path) for path in all_paths]\n",
    "            min_cost  = 1e300\n",
    "            pair_score = 0\n",
    "            for path in all_paths:\n",
    "                # calculate the score of the path\n",
    "                path_score = 0\n",
    "                for silverPoint in silverPoints:\n",
    "                    if (silverPoint[\"x\"], silverPoint[\"y\"]) in path:\n",
    "                        path_score += silverPoint[\"score\"]\n",
    "                path_cost = 0\n",
    "                for tile in path:\n",
    "                    if tile not in [(GP[\"x\"], GP[\"y\"]) for GP in goldenPoints]:\n",
    "                        path_cost += costs[state[tile]]\n",
    "                if path_cost < min_cost:\n",
    "                    min_cost = path_cost\n",
    "                    pair_score = path_score\n",
    "            score += pair_score\n",
    "                \n",
    "    if score < 0:\n",
    "        score = 0\n",
    "\n",
    "    \n",
    "\n",
    "    nx.draw(graph, with_labels=True)\n",
    "    \n",
    "    return score\n",
    "    "
   ]
  },
  {
   "cell_type": "code",
   "outputs": [
    {
     "data": {
      "text/plain": "[(1, 2), (1, 3), (2, 3)]"
     },
     "execution_count": 142,
     "metadata": {},
     "output_type": "execute_result"
    }
   ],
   "source": [
    "list(combinations([1,2,3], 2))"
   ],
   "metadata": {
    "collapsed": false,
    "ExecuteTime": {
     "end_time": "2024-03-21T19:13:23.373273400Z",
     "start_time": "2024-03-21T19:13:23.301533500Z"
    }
   },
   "execution_count": 142
  },
  {
   "cell_type": "code",
   "execution_count": 143,
   "metadata": {
    "ExecuteTime": {
     "end_time": "2024-03-21T19:13:23.393499400Z",
     "start_time": "2024-03-21T19:13:23.313063300Z"
    }
   },
   "outputs": [
    {
     "data": {
      "text/plain": "<Figure size 432x288 with 1 Axes>",
      "image/png": "[encoded data removed]"
     },
     "metadata": {},
     "output_type": "display_data"
    }
   ],
   "source": [
    "score = evaluate({\n",
    "        (3, 4): \"3\",\n",
    "        (4, 4): \"B\",\n",
    "        (4, 3): \"C\",\n",
    "        (4, 2): \"5\",\n",
    "        (5, 2): \"A\",\n",
    "        (5, 1): \"C\",\n",
    "        (5, 0): \"5\",\n",
    "        (6, 0): \"6\",\n",
    "        (6, 1): \"C\",\n",
    "        (6, 2): \"9\",\n",
    "        (7, 3): \"F\",\n",
    "        (7, 4): \"F\",\n",
    "        (7, 5): \"F\",\n",
    "        (7, 6): \"A\",\n",
    "        (5, 6): \"9\",\n",
    "        (5, 5): \"E\",\n",
    "        (5, 4): \"6\",\n",
    "    })"
   ]
  },
  {
   "cell_type": "code",
   "outputs": [
    {
     "name": "stdout",
     "output_type": "stream",
     "text": [
      "499\n"
     ]
    }
   ],
   "source": [
    "print(score)"
   ],
   "metadata": {
    "collapsed": false,
    "ExecuteTime": {
     "end_time": "2024-03-21T19:13:23.394500100Z",
     "start_time": "2024-03-21T19:13:23.389977Z"
    }
   },
   "execution_count": 144
  },
  {
   "cell_type": "code",
   "outputs": [],
   "source": [],
   "metadata": {
    "collapsed": false,
    "ExecuteTime": {
     "end_time": "2024-03-21T19:13:23.469664Z",
     "start_time": "2024-03-21T19:13:23.393499400Z"
    }
   },
   "execution_count": 144
  },
  {
   "cell_type": "code",
   "outputs": [],
   "source": [],
   "metadata": {
    "collapsed": false,
    "ExecuteTime": {
     "end_time": "2024-03-21T19:13:23.470666300Z",
     "start_time": "2024-03-21T19:13:23.398499200Z"
    }
   },
   "execution_count": 144
  }
 ],
 "metadata": {
  "kernelspec": {
   "display_name": "Python 3",
   "language": "python",
   "name": "python3"
  },
  "language_info": {
   "codemirror_mode": {
    "name": "ipython",
    "version": 3
   },
   "file_extension": ".py",
   "mimetype": "text/x-python",
   "name": "python",
   "nbconvert_exporter": "python",
   "pygments_lexer": "ipython3",
   "version": "3.10.6"
  }
 },
 "nbformat": 4,
 "nbformat_minor": 2
}
